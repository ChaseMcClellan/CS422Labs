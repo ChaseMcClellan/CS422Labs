{
  "nbformat": 4,
  "nbformat_minor": 0,
  "metadata": {
    "colab": {
      "provenance": [],
      "authorship_tag": "ABX9TyOIXVs+j7ju4QN8gtJjZw+b",
      "include_colab_link": true
    },
    "kernelspec": {
      "name": "python3",
      "display_name": "Python 3"
    },
    "language_info": {
      "name": "python"
    }
  },
  "cells": [
    {
      "cell_type": "markdown",
      "metadata": {
        "id": "view-in-github",
        "colab_type": "text"
      },
      "source": [
        "<a href=\"https://colab.research.google.com/github/ChaseMcClellan/CS422Labs/blob/main/BinaryLogisticRegression.ipynb\" target=\"_parent\"><img src=\"https://colab.research.google.com/assets/colab-badge.svg\" alt=\"Open In Colab\"/></a>"
      ]
    },
    {
      "cell_type": "markdown",
      "source": [
        "**1. Dataset Preperation**"
      ],
      "metadata": {
        "id": "NoNYSZNPlMjA"
      }
    },
    {
      "cell_type": "markdown",
      "source": [
        "Install"
      ],
      "metadata": {
        "id": "nB1icRnq53No"
      }
    },
    {
      "cell_type": "code",
      "execution_count": 46,
      "metadata": {
        "colab": {
          "base_uri": "https://localhost:8080/"
        },
        "id": "7S5XJuqZlKyI",
        "outputId": "1a19997e-0e67-4345-f75b-16b749a1f479"
      },
      "outputs": [
        {
          "output_type": "stream",
          "name": "stdout",
          "text": [
            "Requirement already satisfied: ucimlrepo in /usr/local/lib/python3.11/dist-packages (0.0.7)\n",
            "Requirement already satisfied: pandas>=1.0.0 in /usr/local/lib/python3.11/dist-packages (from ucimlrepo) (2.2.2)\n",
            "Requirement already satisfied: certifi>=2020.12.5 in /usr/local/lib/python3.11/dist-packages (from ucimlrepo) (2025.1.31)\n",
            "Requirement already satisfied: numpy>=1.23.2 in /usr/local/lib/python3.11/dist-packages (from pandas>=1.0.0->ucimlrepo) (1.26.4)\n",
            "Requirement already satisfied: python-dateutil>=2.8.2 in /usr/local/lib/python3.11/dist-packages (from pandas>=1.0.0->ucimlrepo) (2.8.2)\n",
            "Requirement already satisfied: pytz>=2020.1 in /usr/local/lib/python3.11/dist-packages (from pandas>=1.0.0->ucimlrepo) (2025.1)\n",
            "Requirement already satisfied: tzdata>=2022.7 in /usr/local/lib/python3.11/dist-packages (from pandas>=1.0.0->ucimlrepo) (2025.1)\n",
            "Requirement already satisfied: six>=1.5 in /usr/local/lib/python3.11/dist-packages (from python-dateutil>=2.8.2->pandas>=1.0.0->ucimlrepo) (1.17.0)\n"
          ]
        }
      ],
      "source": [
        "pip install ucimlrepo\n"
      ]
    },
    {
      "cell_type": "code",
      "source": [
        "pip install category_encoders\n"
      ],
      "metadata": {
        "colab": {
          "base_uri": "https://localhost:8080/"
        },
        "id": "wuVw_-AobFqO",
        "outputId": "623bd2af-5c97-49fe-d0c0-f906e27341d1"
      },
      "execution_count": 47,
      "outputs": [
        {
          "output_type": "stream",
          "name": "stdout",
          "text": [
            "Collecting category_encoders\n",
            "  Downloading category_encoders-2.8.0-py3-none-any.whl.metadata (7.9 kB)\n",
            "Requirement already satisfied: numpy>=1.14.0 in /usr/local/lib/python3.11/dist-packages (from category_encoders) (1.26.4)\n",
            "Requirement already satisfied: pandas>=1.0.5 in /usr/local/lib/python3.11/dist-packages (from category_encoders) (2.2.2)\n",
            "Requirement already satisfied: patsy>=0.5.1 in /usr/local/lib/python3.11/dist-packages (from category_encoders) (1.0.1)\n",
            "Requirement already satisfied: scikit-learn>=1.6.0 in /usr/local/lib/python3.11/dist-packages (from category_encoders) (1.6.1)\n",
            "Requirement already satisfied: scipy>=1.0.0 in /usr/local/lib/python3.11/dist-packages (from category_encoders) (1.13.1)\n",
            "Requirement already satisfied: statsmodels>=0.9.0 in /usr/local/lib/python3.11/dist-packages (from category_encoders) (0.14.4)\n",
            "Requirement already satisfied: python-dateutil>=2.8.2 in /usr/local/lib/python3.11/dist-packages (from pandas>=1.0.5->category_encoders) (2.8.2)\n",
            "Requirement already satisfied: pytz>=2020.1 in /usr/local/lib/python3.11/dist-packages (from pandas>=1.0.5->category_encoders) (2025.1)\n",
            "Requirement already satisfied: tzdata>=2022.7 in /usr/local/lib/python3.11/dist-packages (from pandas>=1.0.5->category_encoders) (2025.1)\n",
            "Requirement already satisfied: joblib>=1.2.0 in /usr/local/lib/python3.11/dist-packages (from scikit-learn>=1.6.0->category_encoders) (1.4.2)\n",
            "Requirement already satisfied: threadpoolctl>=3.1.0 in /usr/local/lib/python3.11/dist-packages (from scikit-learn>=1.6.0->category_encoders) (3.5.0)\n",
            "Requirement already satisfied: packaging>=21.3 in /usr/local/lib/python3.11/dist-packages (from statsmodels>=0.9.0->category_encoders) (24.2)\n",
            "Requirement already satisfied: six>=1.5 in /usr/local/lib/python3.11/dist-packages (from python-dateutil>=2.8.2->pandas>=1.0.5->category_encoders) (1.17.0)\n",
            "Downloading category_encoders-2.8.0-py3-none-any.whl (85 kB)\n",
            "\u001b[2K   \u001b[90m━━━━━━━━━━━━━━━━━━━━━━━━━━━━━━━━━━━━━━━━\u001b[0m \u001b[32m85.7/85.7 kB\u001b[0m \u001b[31m2.1 MB/s\u001b[0m eta \u001b[36m0:00:00\u001b[0m\n",
            "\u001b[?25hInstalling collected packages: category_encoders\n",
            "Successfully installed category_encoders-2.8.0\n"
          ]
        }
      ]
    },
    {
      "cell_type": "markdown",
      "source": [
        "Import and display"
      ],
      "metadata": {
        "id": "21R4UQJrmcI5"
      }
    },
    {
      "cell_type": "code",
      "source": [
        "\n",
        "from ucimlrepo import fetch_ucirepo\n",
        "\n",
        "# fetch dataset\n",
        "adult = fetch_ucirepo(id=2)\n",
        "\n",
        "# data (as pandas dataframes)\n",
        "X = adult.data.features\n",
        "y = adult.data.targets\n",
        "\n",
        "# metadata\n",
        "print(adult.metadata)\n",
        "\n",
        "# variable information\n",
        "print(adult.variables)"
      ],
      "metadata": {
        "colab": {
          "base_uri": "https://localhost:8080/"
        },
        "id": "sOAinjxnlthe",
        "outputId": "b910fe3c-c181-44ee-9ad8-0c2598183655"
      },
      "execution_count": 70,
      "outputs": [
        {
          "output_type": "stream",
          "name": "stdout",
          "text": [
            "{'uci_id': 2, 'name': 'Adult', 'repository_url': 'https://archive.ics.uci.edu/dataset/2/adult', 'data_url': 'https://archive.ics.uci.edu/static/public/2/data.csv', 'abstract': 'Predict whether annual income of an individual exceeds $50K/yr based on census data. Also known as \"Census Income\" dataset. ', 'area': 'Social Science', 'tasks': ['Classification'], 'characteristics': ['Multivariate'], 'num_instances': 48842, 'num_features': 14, 'feature_types': ['Categorical', 'Integer'], 'demographics': ['Age', 'Income', 'Education Level', 'Other', 'Race', 'Sex'], 'target_col': ['income'], 'index_col': None, 'has_missing_values': 'yes', 'missing_values_symbol': 'NaN', 'year_of_dataset_creation': 1996, 'last_updated': 'Tue Sep 24 2024', 'dataset_doi': '10.24432/C5XW20', 'creators': ['Barry Becker', 'Ronny Kohavi'], 'intro_paper': None, 'additional_info': {'summary': \"Extraction was done by Barry Becker from the 1994 Census database.  A set of reasonably clean records was extracted using the following conditions: ((AAGE>16) && (AGI>100) && (AFNLWGT>1)&& (HRSWK>0))\\n\\nPrediction task is to determine whether a person's income is over $50,000 a year.\\n\", 'purpose': None, 'funded_by': None, 'instances_represent': None, 'recommended_data_splits': None, 'sensitive_data': None, 'preprocessing_description': None, 'variable_info': 'Listing of attributes:\\r\\n\\r\\n>50K, <=50K.\\r\\n\\r\\nage: continuous.\\r\\nworkclass: Private, Self-emp-not-inc, Self-emp-inc, Federal-gov, Local-gov, State-gov, Without-pay, Never-worked.\\r\\nfnlwgt: continuous.\\r\\neducation: Bachelors, Some-college, 11th, HS-grad, Prof-school, Assoc-acdm, Assoc-voc, 9th, 7th-8th, 12th, Masters, 1st-4th, 10th, Doctorate, 5th-6th, Preschool.\\r\\neducation-num: continuous.\\r\\nmarital-status: Married-civ-spouse, Divorced, Never-married, Separated, Widowed, Married-spouse-absent, Married-AF-spouse.\\r\\noccupation: Tech-support, Craft-repair, Other-service, Sales, Exec-managerial, Prof-specialty, Handlers-cleaners, Machine-op-inspct, Adm-clerical, Farming-fishing, Transport-moving, Priv-house-serv, Protective-serv, Armed-Forces.\\r\\nrelationship: Wife, Own-child, Husband, Not-in-family, Other-relative, Unmarried.\\r\\nrace: White, Asian-Pac-Islander, Amer-Indian-Eskimo, Other, Black.\\r\\nsex: Female, Male.\\r\\ncapital-gain: continuous.\\r\\ncapital-loss: continuous.\\r\\nhours-per-week: continuous.\\r\\nnative-country: United-States, Cambodia, England, Puerto-Rico, Canada, Germany, Outlying-US(Guam-USVI-etc), India, Japan, Greece, South, China, Cuba, Iran, Honduras, Philippines, Italy, Poland, Jamaica, Vietnam, Mexico, Portugal, Ireland, France, Dominican-Republic, Laos, Ecuador, Taiwan, Haiti, Columbia, Hungary, Guatemala, Nicaragua, Scotland, Thailand, Yugoslavia, El-Salvador, Trinadad&Tobago, Peru, Hong, Holand-Netherlands.', 'citation': None}}\n",
            "              name     role         type      demographic  \\\n",
            "0              age  Feature      Integer              Age   \n",
            "1        workclass  Feature  Categorical           Income   \n",
            "2           fnlwgt  Feature      Integer             None   \n",
            "3        education  Feature  Categorical  Education Level   \n",
            "4    education-num  Feature      Integer  Education Level   \n",
            "5   marital-status  Feature  Categorical            Other   \n",
            "6       occupation  Feature  Categorical            Other   \n",
            "7     relationship  Feature  Categorical            Other   \n",
            "8             race  Feature  Categorical             Race   \n",
            "9              sex  Feature       Binary              Sex   \n",
            "10    capital-gain  Feature      Integer             None   \n",
            "11    capital-loss  Feature      Integer             None   \n",
            "12  hours-per-week  Feature      Integer             None   \n",
            "13  native-country  Feature  Categorical            Other   \n",
            "14          income   Target       Binary           Income   \n",
            "\n",
            "                                          description units missing_values  \n",
            "0                                                 N/A  None             no  \n",
            "1   Private, Self-emp-not-inc, Self-emp-inc, Feder...  None            yes  \n",
            "2                                                None  None             no  \n",
            "3    Bachelors, Some-college, 11th, HS-grad, Prof-...  None             no  \n",
            "4                                                None  None             no  \n",
            "5   Married-civ-spouse, Divorced, Never-married, S...  None             no  \n",
            "6   Tech-support, Craft-repair, Other-service, Sal...  None            yes  \n",
            "7   Wife, Own-child, Husband, Not-in-family, Other...  None             no  \n",
            "8   White, Asian-Pac-Islander, Amer-Indian-Eskimo,...  None             no  \n",
            "9                                       Female, Male.  None             no  \n",
            "10                                               None  None             no  \n",
            "11                                               None  None             no  \n",
            "12                                               None  None             no  \n",
            "13  United-States, Cambodia, England, Puerto-Rico,...  None            yes  \n",
            "14                                       >50K, <=50K.  None             no  \n"
          ]
        }
      ]
    },
    {
      "cell_type": "markdown",
      "source": [
        "Pre processing"
      ],
      "metadata": {
        "id": "fbjynfJoDLBQ"
      }
    },
    {
      "cell_type": "code",
      "source": [
        "import pandas as pd\n",
        "\n",
        "#missing values check\n",
        "missing_values = X.isnull().sum()\n",
        "print(\"Missing values per feature:\\n\", missing_values)\n",
        "\n",
        "#Drop rows\n",
        "X_cleaned = X.dropna()\n",
        "\n",
        "y_cleaned = y.loc[X_cleaned.index]\n",
        "\n",
        "#Display\n",
        "print(f\"Shape before cleaning: {X.shape}\")\n",
        "print(f\"Shape after cleaning: {X_cleaned.shape}\")\n"
      ],
      "metadata": {
        "colab": {
          "base_uri": "https://localhost:8080/"
        },
        "id": "Z6V-K8KkDKdS",
        "outputId": "76099567-d588-40dc-85cb-b4249241f3e9"
      },
      "execution_count": 71,
      "outputs": [
        {
          "output_type": "stream",
          "name": "stdout",
          "text": [
            "Missing values per feature:\n",
            " age                 0\n",
            "workclass         963\n",
            "fnlwgt              0\n",
            "education           0\n",
            "education-num       0\n",
            "marital-status      0\n",
            "occupation        966\n",
            "relationship        0\n",
            "race                0\n",
            "sex                 0\n",
            "capital-gain        0\n",
            "capital-loss        0\n",
            "hours-per-week      0\n",
            "native-country    274\n",
            "dtype: int64\n",
            "Shape before cleaning: (48842, 14)\n",
            "Shape after cleaning: (47621, 14)\n"
          ]
        }
      ]
    },
    {
      "cell_type": "markdown",
      "source": [
        "**2. Feature Engineering**"
      ],
      "metadata": {
        "id": "CYLW2YGmE-F1"
      }
    },
    {
      "cell_type": "code",
      "source": [
        "#Drop irrelevant stuff\n",
        "X_selected = X_cleaned.drop(columns=[\"fnlwgt\"])\n",
        "\n",
        "#Display\n",
        "print(X_selected.head())\n",
        "\n",
        "#update target\n",
        "y_selected = y_cleaned"
      ],
      "metadata": {
        "colab": {
          "base_uri": "https://localhost:8080/"
        },
        "id": "bsRer7JYFGJv",
        "outputId": "96f1fa9a-3123-4dab-bd80-0ade089979bb"
      },
      "execution_count": 72,
      "outputs": [
        {
          "output_type": "stream",
          "name": "stdout",
          "text": [
            "   age         workclass  education  education-num      marital-status  \\\n",
            "0   39         State-gov  Bachelors             13       Never-married   \n",
            "1   50  Self-emp-not-inc  Bachelors             13  Married-civ-spouse   \n",
            "2   38           Private    HS-grad              9            Divorced   \n",
            "3   53           Private       11th              7  Married-civ-spouse   \n",
            "4   28           Private  Bachelors             13  Married-civ-spouse   \n",
            "\n",
            "          occupation   relationship   race     sex  capital-gain  \\\n",
            "0       Adm-clerical  Not-in-family  White    Male          2174   \n",
            "1    Exec-managerial        Husband  White    Male             0   \n",
            "2  Handlers-cleaners  Not-in-family  White    Male             0   \n",
            "3  Handlers-cleaners        Husband  Black    Male             0   \n",
            "4     Prof-specialty           Wife  Black  Female             0   \n",
            "\n",
            "   capital-loss  hours-per-week native-country  \n",
            "0             0              40  United-States  \n",
            "1             0              13  United-States  \n",
            "2             0              40  United-States  \n",
            "3             0              40  United-States  \n",
            "4             0              40           Cuba  \n"
          ]
        }
      ]
    },
    {
      "cell_type": "code",
      "source": [
        "# Drop rows with missing target (Uses code from Chat-GPT 4o)\n",
        "y_selected = y_selected.dropna()\n",
        "\n",
        "#align\n",
        "X_selected = X_selected.loc[y_selected.index]\n",
        "\n",
        "#check\n",
        "print(f\"After fixing - X_selected shape: {X_selected.shape}\")\n",
        "print(f\"After fixing - y_selected shape: {y_selected.shape}\")\n",
        "print(f\"Missing values in y_selected: {y_selected.isnull().sum()}\")\n"
      ],
      "metadata": {
        "colab": {
          "base_uri": "https://localhost:8080/"
        },
        "id": "4EqpdXndeZ7k",
        "outputId": "b8d5909b-1f5e-4b06-c8c5-ac323dd0e53b"
      },
      "execution_count": 83,
      "outputs": [
        {
          "output_type": "stream",
          "name": "stdout",
          "text": [
            "After fixing - X_selected shape: (32561, 13)\n",
            "After fixing - y_selected shape: (32561,)\n",
            "Missing values in y_selected: 0\n"
          ]
        }
      ]
    },
    {
      "cell_type": "markdown",
      "source": [
        "target encoding"
      ],
      "metadata": {
        "id": "XPaRIet6Z83I"
      }
    },
    {
      "cell_type": "code",
      "source": [
        "from category_encoders import TargetEncoder#(Uses code from Chat-GPT 4o)\n",
        "\n",
        "# Identify categorical features\n",
        "categorical_features = X_selected.select_dtypes(include=[\"object\"]).columns\n",
        "\n",
        "#target Encoding\n",
        "target_encoder = TargetEncoder(cols=categorical_features)\n",
        "X_target_encoded = target_encoder.fit_transform(X_selected, y_selected)\n",
        "\n",
        "#display\n",
        "print(\"Target Encoding successful.\")\n",
        "print(X_target_encoded.head())\n",
        "\n",
        "\n",
        "\n"
      ],
      "metadata": {
        "colab": {
          "base_uri": "https://localhost:8080/"
        },
        "id": "I5LCxfrDZ77-",
        "outputId": "2ca22257-de13-41b4-ef73-ef178c2a9b31"
      },
      "execution_count": 84,
      "outputs": [
        {
          "output_type": "stream",
          "name": "stdout",
          "text": [
            "Target Encoding successful.\n",
            "   age  workclass  education  education-num  marital-status  occupation  \\\n",
            "0   39   0.271957   0.414753             13        0.045961    0.134483   \n",
            "1   50   0.284927   0.414753             13        0.446848    0.484014   \n",
            "2   38   0.218673   0.159509              9        0.104209    0.062774   \n",
            "3   53   0.218673   0.051064              7        0.446848    0.062774   \n",
            "4   28   0.218673   0.414753             13        0.446848    0.449034   \n",
            "\n",
            "   relationship     race       sex  capital-gain  capital-loss  \\\n",
            "0      0.103070  0.25586  0.305737          2174             0   \n",
            "1      0.448571  0.25586  0.305737             0             0   \n",
            "2      0.103070  0.25586  0.305737             0             0   \n",
            "3      0.448571  0.12388  0.305737             0             0   \n",
            "4      0.475128  0.12388  0.109461             0             0   \n",
            "\n",
            "   hours-per-week  native-country  \n",
            "0              40        0.245835  \n",
            "1              13        0.245835  \n",
            "2              40        0.245835  \n",
            "3              40        0.245835  \n",
            "4              40        0.263146  \n"
          ]
        }
      ]
    },
    {
      "cell_type": "markdown",
      "source": [
        "Frequency Encoding"
      ],
      "metadata": {
        "id": "O9fROlw-c_va"
      }
    },
    {
      "cell_type": "code",
      "source": [
        "#frequency encoding\n",
        "frequency_encoded = X_selected.copy()\n",
        "\n",
        "for col in categorical_features:\n",
        "    freq_map = frequency_encoded[col].value_counts().to_dict()\n",
        "    frequency_encoded[col] = frequency_encoded[col].map(freq_map)\n",
        "\n",
        "#Display\n",
        "print(\"Frequency Encoding successful.\")\n",
        "print(frequency_encoded.head())\n",
        "\n"
      ],
      "metadata": {
        "colab": {
          "base_uri": "https://localhost:8080/"
        },
        "id": "rKyQSozvc_6Y",
        "outputId": "80d92693-7496-4a27-db78-28227d3a2116"
      },
      "execution_count": 76,
      "outputs": [
        {
          "output_type": "stream",
          "name": "stdout",
          "text": [
            "Frequency Encoding successful.\n",
            "   age  workclass  education  education-num  marital-status  occupation  \\\n",
            "0   39       1298       5355             13           10683        3770   \n",
            "1   50       2541       5355             13           14976        4066   \n",
            "2   38      22696      10501              9            4443        1370   \n",
            "3   53      22696       1175              7           14976        1370   \n",
            "4   28      22696       5355             13           14976        4140   \n",
            "\n",
            "   relationship   race    sex  capital-gain  capital-loss  hours-per-week  \\\n",
            "0          8305  27816  21790          2174             0              40   \n",
            "1         13193  27816  21790             0             0              13   \n",
            "2          8305  27816  21790             0             0              40   \n",
            "3         13193   3124  21790             0             0              40   \n",
            "4          1568   3124  10771             0             0              40   \n",
            "\n",
            "   native-country  \n",
            "0           29170  \n",
            "1           29170  \n",
            "2           29170  \n",
            "3           29170  \n",
            "4              95  \n"
          ]
        }
      ]
    },
    {
      "cell_type": "markdown",
      "source": [
        "**3. Model Training**"
      ],
      "metadata": {
        "id": "EnssuAUnR_yU"
      }
    },
    {
      "cell_type": "code",
      "source": [
        "from sklearn.model_selection import train_test_split#(Uses code from Chat-GPT 4o)\n",
        "from sklearn.linear_model import LogisticRegression\n",
        "from sklearn.metrics import accuracy_score\n",
        "\n",
        "# Split data into training and testing sets (80% train, 20% test)\n",
        "X_train_target, X_test_target, y_train, y_test = train_test_split(X_target_encoded, y_selected, test_size=0.2, random_state=42)\n",
        "X_train_freq, X_test_freq, _, _ = train_test_split(frequency_encoded, y_selected, test_size=0.2, random_state=42)\n",
        "\n",
        "# Train Logistic Regression model (Target Encoding)\n",
        "model_target = LogisticRegression(max_iter=1000)\n",
        "model_target.fit(X_train_target, y_train)\n",
        "y_pred_target = model_target.predict(X_test_target)\n",
        "\n",
        "# Train Logistic Regression model (Frequency Encoding)\n",
        "model_freq = LogisticRegression(max_iter=1000)\n",
        "model_freq.fit(X_train_freq, y_train)\n",
        "y_pred_freq = model_freq.predict(X_test_freq)\n",
        "\n",
        "# Print accuracy for both models\n",
        "print(\"Target Encoding Model Accuracy:\", accuracy_score(y_test, y_pred_target))\n",
        "print(\"Frequency Encoding Model Accuracy:\", accuracy_score(y_test, y_pred_freq))"
      ],
      "metadata": {
        "colab": {
          "base_uri": "https://localhost:8080/"
        },
        "id": "0kIo46F-SD2B",
        "outputId": "8c022ad6-f8ad-4c23-bd13-19e29130d954"
      },
      "execution_count": 85,
      "outputs": [
        {
          "output_type": "stream",
          "name": "stderr",
          "text": [
            "/usr/local/lib/python3.11/dist-packages/sklearn/linear_model/_logistic.py:465: ConvergenceWarning: lbfgs failed to converge (status=1):\n",
            "STOP: TOTAL NO. of ITERATIONS REACHED LIMIT.\n",
            "\n",
            "Increase the number of iterations (max_iter) or scale the data as shown in:\n",
            "    https://scikit-learn.org/stable/modules/preprocessing.html\n",
            "Please also refer to the documentation for alternative solver options:\n",
            "    https://scikit-learn.org/stable/modules/linear_model.html#logistic-regression\n",
            "  n_iter_i = _check_optimize_result(\n"
          ]
        },
        {
          "output_type": "stream",
          "name": "stdout",
          "text": [
            "Target Encoding Model Accuracy: 0.8544449562413634\n",
            "Frequency Encoding Model Accuracy: 0.7994779671426377\n"
          ]
        },
        {
          "output_type": "stream",
          "name": "stderr",
          "text": [
            "/usr/local/lib/python3.11/dist-packages/sklearn/linear_model/_logistic.py:465: ConvergenceWarning: lbfgs failed to converge (status=1):\n",
            "STOP: TOTAL NO. of ITERATIONS REACHED LIMIT.\n",
            "\n",
            "Increase the number of iterations (max_iter) or scale the data as shown in:\n",
            "    https://scikit-learn.org/stable/modules/preprocessing.html\n",
            "Please also refer to the documentation for alternative solver options:\n",
            "    https://scikit-learn.org/stable/modules/linear_model.html#logistic-regression\n",
            "  n_iter_i = _check_optimize_result(\n"
          ]
        }
      ]
    },
    {
      "cell_type": "markdown",
      "source": [
        "**One-Hot Encoding**"
      ],
      "metadata": {
        "id": "Xlx_mhUbUavU"
      }
    },
    {
      "cell_type": "code",
      "source": [
        "from sklearn.metrics import confusion_matrix, classification_report#(Uses code from Chat-GPT 4o)\n",
        "import seaborn as sns\n",
        "import matplotlib.pyplot as plt\n",
        "\n",
        "# Compute confusion matrices\n",
        "cm_target = confusion_matrix(y_test, y_pred_target)\n",
        "cm_freq = confusion_matrix(y_test, y_pred_freq)\n",
        "\n",
        "# Function to plot confusion matrices\n",
        "def plot_confusion_matrix(cm, title):\n",
        "    plt.figure(figsize=(5, 4))\n",
        "    sns.heatmap(cm, annot=True, fmt='d', cmap=\"Blues\", xticklabels=[\"<=50K\", \">50K\"], yticklabels=[\"<=50K\", \">50K\"])\n",
        "    plt.xlabel(\"Predicted\")\n",
        "    plt.ylabel(\"Actual\")\n",
        "    plt.title(title)\n",
        "    plt.show()\n",
        "\n",
        "# Plot confusion matrices\n",
        "plot_confusion_matrix(cm_target, \"Confusion Matrix - Target Encoding\")\n",
        "plot_confusion_matrix(cm_freq, \"Confusion Matrix - Frequency Encoding\")\n",
        "\n",
        "# Print detailed classification reports\n",
        "print(\"Classification Report - Target Encoding:\")\n",
        "print(classification_report(y_test, y_pred_target))\n",
        "\n",
        "print(\"Classification Report - Frequency Encoding:\")\n",
        "print(classification_report(y_test, y_pred_freq))\n",
        "\n"
      ],
      "metadata": {
        "colab": {
          "base_uri": "https://localhost:8080/",
          "height": 1000
        },
        "id": "hvEdFo3KUhzy",
        "outputId": "b9786b6e-1fa7-4b62-f7c8-f7edde5e64b7"
      },
      "execution_count": 82,
      "outputs": [
        {
          "output_type": "display_data",
          "data": {
            "text/plain": [
              "<Figure size 500x400 with 2 Axes>"
            ],
            "image/png": "[encoded data removed]"
          },
          "metadata": {}
        },
        {
          "output_type": "display_data",
          "data": {
            "text/plain": [
              "<Figure size 500x400 with 2 Axes>"
            ],
            "image/png": "[encoded data removed]"
          },
          "metadata": {}
        },
        {
          "output_type": "stream",
          "name": "stdout",
          "text": [
            "Classification Report - Target Encoding:\n",
            "              precision    recall  f1-score   support\n",
            "\n",
            "         0.0       0.88      0.94      0.91      4942\n",
            "         1.0       0.75      0.59      0.66      1571\n",
            "\n",
            "    accuracy                           0.85      6513\n",
            "   macro avg       0.81      0.77      0.79      6513\n",
            "weighted avg       0.85      0.85      0.85      6513\n",
            "\n",
            "Classification Report - Frequency Encoding:\n",
            "              precision    recall  f1-score   support\n",
            "\n",
            "         0.0       0.82      0.94      0.88      4942\n",
            "         1.0       0.65      0.36      0.46      1571\n",
            "\n",
            "    accuracy                           0.80      6513\n",
            "   macro avg       0.74      0.65      0.67      6513\n",
            "weighted avg       0.78      0.80      0.78      6513\n",
            "\n"
          ]
        }
      ]
    }
  ]
}